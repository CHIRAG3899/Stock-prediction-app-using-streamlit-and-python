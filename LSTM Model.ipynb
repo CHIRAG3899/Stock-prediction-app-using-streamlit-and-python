{
 "cells": [
  {
   "cell_type": "code",
   "execution_count": 13,
   "id": "16da497b",
   "metadata": {},
   "outputs": [],
   "source": [
    "import numpy as np\n",
    "import pandas as pd\n",
    "import matplotlib.pyplot as plt\n",
    "import pandas_datareader as data"
   ]
  },
  {
   "cell_type": "code",
   "execution_count": 21,
   "id": "2e646abd",
   "metadata": {},
   "outputs": [],
   "source": [
    "start = str(input('Start date(yyyy-mm-dd): '))\n",
    "end = str(input('End date(yyyy-mm-dd): '))\n",
    "\n",
    "df=data.DataReader('GOOGL','yahoo',start,end)"
   ]
  },
  {
   "cell_type": "code",
   "execution_count": 22,
   "id": "3bd2639c",
   "metadata": {},
   "outputs": [
    {
     "data": {
      "text/html": [
       "<div>\n",
       "<style scoped>\n",
       "    .dataframe tbody tr th:only-of-type {\n",
       "        vertical-align: middle;\n",
       "    }\n",
       "\n",
       "    .dataframe tbody tr th {\n",
       "        vertical-align: top;\n",
       "    }\n",
       "\n",
       "    .dataframe thead th {\n",
       "        text-align: right;\n",
       "    }\n",
       "</style>\n",
       "<table border=\"1\" class=\"dataframe\">\n",
       "  <thead>\n",
       "    <tr style=\"text-align: right;\">\n",
       "      <th></th>\n",
       "      <th>High</th>\n",
       "      <th>Low</th>\n",
       "      <th>Open</th>\n",
       "      <th>Close</th>\n",
       "      <th>Volume</th>\n",
       "      <th>Adj Close</th>\n",
       "    </tr>\n",
       "    <tr>\n",
       "      <th>Date</th>\n",
       "      <th></th>\n",
       "      <th></th>\n",
       "      <th></th>\n",
       "      <th></th>\n",
       "      <th></th>\n",
       "      <th></th>\n",
       "    </tr>\n",
       "  </thead>\n",
       "  <tbody>\n",
       "    <tr>\n",
       "      <th>2004-08-19</th>\n",
       "      <td>52.082081</td>\n",
       "      <td>48.028027</td>\n",
       "      <td>50.050049</td>\n",
       "      <td>50.220219</td>\n",
       "      <td>44659096.0</td>\n",
       "      <td>50.220219</td>\n",
       "    </tr>\n",
       "    <tr>\n",
       "      <th>2004-08-20</th>\n",
       "      <td>54.594597</td>\n",
       "      <td>50.300301</td>\n",
       "      <td>50.555557</td>\n",
       "      <td>54.209209</td>\n",
       "      <td>22834343.0</td>\n",
       "      <td>54.209209</td>\n",
       "    </tr>\n",
       "    <tr>\n",
       "      <th>2004-08-23</th>\n",
       "      <td>56.796799</td>\n",
       "      <td>54.579578</td>\n",
       "      <td>55.430431</td>\n",
       "      <td>54.754753</td>\n",
       "      <td>18256126.0</td>\n",
       "      <td>54.754753</td>\n",
       "    </tr>\n",
       "    <tr>\n",
       "      <th>2004-08-24</th>\n",
       "      <td>55.855858</td>\n",
       "      <td>51.836838</td>\n",
       "      <td>55.675674</td>\n",
       "      <td>52.487488</td>\n",
       "      <td>15247337.0</td>\n",
       "      <td>52.487488</td>\n",
       "    </tr>\n",
       "    <tr>\n",
       "      <th>2004-08-25</th>\n",
       "      <td>54.054054</td>\n",
       "      <td>51.991993</td>\n",
       "      <td>52.532532</td>\n",
       "      <td>53.053055</td>\n",
       "      <td>9188602.0</td>\n",
       "      <td>53.053055</td>\n",
       "    </tr>\n",
       "  </tbody>\n",
       "</table>\n",
       "</div>"
      ],
      "text/plain": [
       "                 High        Low       Open      Close      Volume  Adj Close\n",
       "Date                                                                         \n",
       "2004-08-19  52.082081  48.028027  50.050049  50.220219  44659096.0  50.220219\n",
       "2004-08-20  54.594597  50.300301  50.555557  54.209209  22834343.0  54.209209\n",
       "2004-08-23  56.796799  54.579578  55.430431  54.754753  18256126.0  54.754753\n",
       "2004-08-24  55.855858  51.836838  55.675674  52.487488  15247337.0  52.487488\n",
       "2004-08-25  54.054054  51.991993  52.532532  53.053055   9188602.0  53.053055"
      ]
     },
     "execution_count": 22,
     "metadata": {},
     "output_type": "execute_result"
    }
   ],
   "source": [
    "df.head()"
   ]
  },
  {
   "cell_type": "code",
   "execution_count": 23,
   "id": "7e082937",
   "metadata": {},
   "outputs": [
    {
     "data": {
      "text/html": [
       "<div>\n",
       "<style scoped>\n",
       "    .dataframe tbody tr th:only-of-type {\n",
       "        vertical-align: middle;\n",
       "    }\n",
       "\n",
       "    .dataframe tbody tr th {\n",
       "        vertical-align: top;\n",
       "    }\n",
       "\n",
       "    .dataframe thead th {\n",
       "        text-align: right;\n",
       "    }\n",
       "</style>\n",
       "<table border=\"1\" class=\"dataframe\">\n",
       "  <thead>\n",
       "    <tr style=\"text-align: right;\">\n",
       "      <th></th>\n",
       "      <th>Date</th>\n",
       "      <th>High</th>\n",
       "      <th>Low</th>\n",
       "      <th>Open</th>\n",
       "      <th>Close</th>\n",
       "      <th>Volume</th>\n",
       "      <th>Adj Close</th>\n",
       "    </tr>\n",
       "  </thead>\n",
       "  <tbody>\n",
       "    <tr>\n",
       "      <th>0</th>\n",
       "      <td>2004-08-19</td>\n",
       "      <td>52.082081</td>\n",
       "      <td>48.028027</td>\n",
       "      <td>50.050049</td>\n",
       "      <td>50.220219</td>\n",
       "      <td>44659096.0</td>\n",
       "      <td>50.220219</td>\n",
       "    </tr>\n",
       "    <tr>\n",
       "      <th>1</th>\n",
       "      <td>2004-08-20</td>\n",
       "      <td>54.594597</td>\n",
       "      <td>50.300301</td>\n",
       "      <td>50.555557</td>\n",
       "      <td>54.209209</td>\n",
       "      <td>22834343.0</td>\n",
       "      <td>54.209209</td>\n",
       "    </tr>\n",
       "    <tr>\n",
       "      <th>2</th>\n",
       "      <td>2004-08-23</td>\n",
       "      <td>56.796799</td>\n",
       "      <td>54.579578</td>\n",
       "      <td>55.430431</td>\n",
       "      <td>54.754753</td>\n",
       "      <td>18256126.0</td>\n",
       "      <td>54.754753</td>\n",
       "    </tr>\n",
       "    <tr>\n",
       "      <th>3</th>\n",
       "      <td>2004-08-24</td>\n",
       "      <td>55.855858</td>\n",
       "      <td>51.836838</td>\n",
       "      <td>55.675674</td>\n",
       "      <td>52.487488</td>\n",
       "      <td>15247337.0</td>\n",
       "      <td>52.487488</td>\n",
       "    </tr>\n",
       "    <tr>\n",
       "      <th>4</th>\n",
       "      <td>2004-08-25</td>\n",
       "      <td>54.054054</td>\n",
       "      <td>51.991993</td>\n",
       "      <td>52.532532</td>\n",
       "      <td>53.053055</td>\n",
       "      <td>9188602.0</td>\n",
       "      <td>53.053055</td>\n",
       "    </tr>\n",
       "  </tbody>\n",
       "</table>\n",
       "</div>"
      ],
      "text/plain": [
       "        Date       High        Low       Open      Close      Volume  \\\n",
       "0 2004-08-19  52.082081  48.028027  50.050049  50.220219  44659096.0   \n",
       "1 2004-08-20  54.594597  50.300301  50.555557  54.209209  22834343.0   \n",
       "2 2004-08-23  56.796799  54.579578  55.430431  54.754753  18256126.0   \n",
       "3 2004-08-24  55.855858  51.836838  55.675674  52.487488  15247337.0   \n",
       "4 2004-08-25  54.054054  51.991993  52.532532  53.053055   9188602.0   \n",
       "\n",
       "   Adj Close  \n",
       "0  50.220219  \n",
       "1  54.209209  \n",
       "2  54.754753  \n",
       "3  52.487488  \n",
       "4  53.053055  "
      ]
     },
     "execution_count": 23,
     "metadata": {},
     "output_type": "execute_result"
    }
   ],
   "source": [
    "df=df.reset_index()\n",
    "df.head()"
   ]
  },
  {
   "cell_type": "code",
   "execution_count": 24,
   "id": "751cd613",
   "metadata": {},
   "outputs": [
    {
     "data": {
      "text/html": [
       "<div>\n",
       "<style scoped>\n",
       "    .dataframe tbody tr th:only-of-type {\n",
       "        vertical-align: middle;\n",
       "    }\n",
       "\n",
       "    .dataframe tbody tr th {\n",
       "        vertical-align: top;\n",
       "    }\n",
       "\n",
       "    .dataframe thead th {\n",
       "        text-align: right;\n",
       "    }\n",
       "</style>\n",
       "<table border=\"1\" class=\"dataframe\">\n",
       "  <thead>\n",
       "    <tr style=\"text-align: right;\">\n",
       "      <th></th>\n",
       "      <th>High</th>\n",
       "      <th>Low</th>\n",
       "      <th>Open</th>\n",
       "      <th>Close</th>\n",
       "      <th>Volume</th>\n",
       "    </tr>\n",
       "  </thead>\n",
       "  <tbody>\n",
       "    <tr>\n",
       "      <th>0</th>\n",
       "      <td>52.082081</td>\n",
       "      <td>48.028027</td>\n",
       "      <td>50.050049</td>\n",
       "      <td>50.220219</td>\n",
       "      <td>44659096.0</td>\n",
       "    </tr>\n",
       "    <tr>\n",
       "      <th>1</th>\n",
       "      <td>54.594597</td>\n",
       "      <td>50.300301</td>\n",
       "      <td>50.555557</td>\n",
       "      <td>54.209209</td>\n",
       "      <td>22834343.0</td>\n",
       "    </tr>\n",
       "    <tr>\n",
       "      <th>2</th>\n",
       "      <td>56.796799</td>\n",
       "      <td>54.579578</td>\n",
       "      <td>55.430431</td>\n",
       "      <td>54.754753</td>\n",
       "      <td>18256126.0</td>\n",
       "    </tr>\n",
       "    <tr>\n",
       "      <th>3</th>\n",
       "      <td>55.855858</td>\n",
       "      <td>51.836838</td>\n",
       "      <td>55.675674</td>\n",
       "      <td>52.487488</td>\n",
       "      <td>15247337.0</td>\n",
       "    </tr>\n",
       "    <tr>\n",
       "      <th>4</th>\n",
       "      <td>54.054054</td>\n",
       "      <td>51.991993</td>\n",
       "      <td>52.532532</td>\n",
       "      <td>53.053055</td>\n",
       "      <td>9188602.0</td>\n",
       "    </tr>\n",
       "  </tbody>\n",
       "</table>\n",
       "</div>"
      ],
      "text/plain": [
       "        High        Low       Open      Close      Volume\n",
       "0  52.082081  48.028027  50.050049  50.220219  44659096.0\n",
       "1  54.594597  50.300301  50.555557  54.209209  22834343.0\n",
       "2  56.796799  54.579578  55.430431  54.754753  18256126.0\n",
       "3  55.855858  51.836838  55.675674  52.487488  15247337.0\n",
       "4  54.054054  51.991993  52.532532  53.053055   9188602.0"
      ]
     },
     "execution_count": 24,
     "metadata": {},
     "output_type": "execute_result"
    }
   ],
   "source": [
    "df=df.drop(['Date','Adj Close'],axis=1)\n",
    "df.head()"
   ]
  },
  {
   "cell_type": "code",
   "execution_count": 25,
   "id": "59526a0a",
   "metadata": {},
   "outputs": [
    {
     "data": {
      "text/plain": [
       "[<matplotlib.lines.Line2D at 0x1fe4e3f1fa0>]"
      ]
     },
     "execution_count": 25,
     "metadata": {},
     "output_type": "execute_result"
    },
    {
     "data": {
      "image/png": "[encoded data removed]",
      "text/plain": [
       "<Figure size 432x288 with 1 Axes>"
      ]
     },
     "metadata": {
      "needs_background": "light"
     },
     "output_type": "display_data"
    }
   ],
   "source": [
    "plt.plot(df.Close)"
   ]
  },
  {
   "cell_type": "code",
   "execution_count": 32,
   "id": "b17ab30e",
   "metadata": {},
   "outputs": [],
   "source": [
    "ma100=df.Close.rolling(100).mean() #Moving Average\n",
    "ma100\n",
    "ma200=df.Close.rolling(200).mean() #Moving Average"
   ]
  },
  {
   "cell_type": "code",
   "execution_count": 36,
   "id": "f241ec43",
   "metadata": {},
   "outputs": [
    {
     "data": {
      "text/plain": [
       "[<matplotlib.lines.Line2D at 0x1fe50a2dbe0>]"
      ]
     },
     "execution_count": 36,
     "metadata": {},
     "output_type": "execute_result"
    },
    {
     "data": {
      "image/png": "[encoded data removed]",
      "text/plain": [
       "<Figure size 864x432 with 1 Axes>"
      ]
     },
     "metadata": {
      "needs_background": "light"
     },
     "output_type": "display_data"
    }
   ],
   "source": [
    "plt.figure(figsize=(12,6))\n",
    "plt.plot(df.Close)\n",
    "plt.plot(ma100,'r')\n",
    "plt.plot(ma200,'y')"
   ]
  },
  {
   "cell_type": "code",
   "execution_count": 38,
   "id": "db508d82",
   "metadata": {},
   "outputs": [
    {
     "data": {
      "text/plain": [
       "(4415, 5)"
      ]
     },
     "execution_count": 38,
     "metadata": {},
     "output_type": "execute_result"
    }
   ],
   "source": [
    "df.shape"
   ]
  },
  {
   "cell_type": "code",
   "execution_count": 51,
   "id": "381bffc1",
   "metadata": {},
   "outputs": [
    {
     "data": {
      "text/plain": [
       "(3090, 1)"
      ]
     },
     "execution_count": 51,
     "metadata": {},
     "output_type": "execute_result"
    }
   ],
   "source": [
    "data_training=pd.DataFrame(df['Close'][0:int(len(df)*0.70)])\n",
    "data_testing=pd.DataFrame(df['Close'][int(len(df)*0.70):int(len(df))])\n",
    "data_training.shape"
   ]
  },
  {
   "cell_type": "code",
   "execution_count": 53,
   "id": "d207b117",
   "metadata": {},
   "outputs": [
    {
     "data": {
      "text/plain": [
       "(1325, 1)"
      ]
     },
     "execution_count": 53,
     "metadata": {},
     "output_type": "execute_result"
    }
   ],
   "source": [
    "data_testing.shape"
   ]
  },
  {
   "cell_type": "code",
   "execution_count": 54,
   "id": "52edf0fe",
   "metadata": {},
   "outputs": [],
   "source": [
    "from sklearn.preprocessing import MinMaxScaler\n",
    "scaler=MinMaxScaler(feature_range=(0,1))"
   ]
  },
  {
   "cell_type": "code",
   "execution_count": 57,
   "id": "dc96423b",
   "metadata": {},
   "outputs": [
    {
     "data": {
      "text/plain": [
       "array([[2.10217786e-04],\n",
       "       [5.28730479e-03],\n",
       "       [5.98165904e-03],\n",
       "       ...,\n",
       "       [9.35164848e-01],\n",
       "       [9.35419418e-01],\n",
       "       [9.27782769e-01]])"
      ]
     },
     "execution_count": 57,
     "metadata": {},
     "output_type": "execute_result"
    }
   ],
   "source": [
    "data_training_array=scaler.fit_transform(data_training)\n",
    "data_training_array"
   ]
  },
  {
   "cell_type": "code",
   "execution_count": 58,
   "id": "e2ac85db",
   "metadata": {},
   "outputs": [
    {
     "data": {
      "text/plain": [
       "(3090, 1)"
      ]
     },
     "execution_count": 58,
     "metadata": {},
     "output_type": "execute_result"
    }
   ],
   "source": [
    "data_training_array.shape"
   ]
  },
  {
   "cell_type": "code",
   "execution_count": 60,
   "id": "63ca999d",
   "metadata": {},
   "outputs": [],
   "source": [
    "x_train=[]\n",
    "y_train=[]\n",
    "\n",
    "for i in range(100,data_training_array.shape[0]):\n",
    "    x_train.append(data_training_array[i-100:i])\n",
    "    y_train.append(data_training_array[i,0])"
   ]
  },
  {
   "cell_type": "code",
   "execution_count": 62,
   "id": "07c30683",
   "metadata": {},
   "outputs": [],
   "source": [
    "x_train,y_train=np.array(x_train),np.array(y_train)"
   ]
  },
  {
   "cell_type": "code",
   "execution_count": 63,
   "id": "da0df265",
   "metadata": {},
   "outputs": [
    {
     "data": {
      "text/plain": [
       "(2990, 100, 1)"
      ]
     },
     "execution_count": 63,
     "metadata": {},
     "output_type": "execute_result"
    }
   ],
   "source": [
    "x_train.shape"
   ]
  },
  {
   "cell_type": "code",
   "execution_count": 69,
   "id": "688c05e6",
   "metadata": {},
   "outputs": [],
   "source": [
    "from keras.layers import Dense,Dropout,LSTM\n",
    "from keras.models import Sequential"
   ]
  },
  {
   "cell_type": "code",
   "execution_count": 71,
   "id": "c672775d",
   "metadata": {},
   "outputs": [],
   "source": [
    "model=Sequential()\n",
    "model.add(LSTM(units=50,activation='relu',return_sequences=True,\n",
    "               input_shape=(x_train.shape[1],1)))\n",
    "model.add(Dropout(0.2))\n",
    "\n",
    "model.add(LSTM(units=60,activation='relu',return_sequences=True))\n",
    "model.add(Dropout(0.3))\n",
    "\n",
    "model.add(LSTM(units=80,activation='relu',return_sequences=True))\n",
    "model.add(Dropout(0.4))\n",
    "\n",
    "model.add(LSTM(units=120,activation='relu'))\n",
    "model.add(Dropout(0.5))\n",
    "\n",
    "model.add(Dense(units=1))\n"
   ]
  },
  {
   "cell_type": "code",
   "execution_count": 72,
   "id": "fb6bc20b",
   "metadata": {},
   "outputs": [
    {
     "name": "stdout",
     "output_type": "stream",
     "text": [
      "Model: \"sequential_1\"\n",
      "_________________________________________________________________\n",
      " Layer (type)                Output Shape              Param #   \n",
      "=================================================================\n",
      " lstm (LSTM)                 (None, 100, 50)           10400     \n",
      "                                                                 \n",
      " dropout (Dropout)           (None, 100, 50)           0         \n",
      "                                                                 \n",
      " lstm_1 (LSTM)               (None, 100, 60)           26640     \n",
      "                                                                 \n",
      " dropout_1 (Dropout)         (None, 100, 60)           0         \n",
      "                                                                 \n",
      " lstm_2 (LSTM)               (None, 100, 80)           45120     \n",
      "                                                                 \n",
      " dropout_2 (Dropout)         (None, 100, 80)           0         \n",
      "                                                                 \n",
      " lstm_3 (LSTM)               (None, 120)               96480     \n",
      "                                                                 \n",
      " dropout_3 (Dropout)         (None, 120)               0         \n",
      "                                                                 \n",
      " dense (Dense)               (None, 1)                 121       \n",
      "                                                                 \n",
      "=================================================================\n",
      "Total params: 178,761\n",
      "Trainable params: 178,761\n",
      "Non-trainable params: 0\n",
      "_________________________________________________________________\n"
     ]
    }
   ],
   "source": [
    "model.summary()"
   ]
  },
  {
   "cell_type": "code",
   "execution_count": 73,
   "id": "99db08c0",
   "metadata": {},
   "outputs": [
    {
     "name": "stdout",
     "output_type": "stream",
     "text": [
      "Epoch 1/50\n",
      "94/94 [==============================] - 18s 151ms/step - loss: 0.0237\n",
      "Epoch 2/50\n",
      "94/94 [==============================] - 13s 140ms/step - loss: 0.0068\n",
      "Epoch 3/50\n",
      "94/94 [==============================] - 12s 132ms/step - loss: 0.0053\n",
      "Epoch 4/50\n",
      "94/94 [==============================] - 15s 156ms/step - loss: 0.0052\n",
      "Epoch 5/50\n",
      "94/94 [==============================] - 17s 176ms/step - loss: 0.0047\n",
      "Epoch 6/50\n",
      "94/94 [==============================] - 14s 145ms/step - loss: 0.0049\n",
      "Epoch 7/50\n",
      "94/94 [==============================] - 13s 134ms/step - loss: 0.0048\n",
      "Epoch 8/50\n",
      "94/94 [==============================] - 13s 134ms/step - loss: 0.0040\n",
      "Epoch 9/50\n",
      "94/94 [==============================] - 13s 135ms/step - loss: 0.0036\n",
      "Epoch 10/50\n",
      "94/94 [==============================] - 13s 135ms/step - loss: 0.0038\n",
      "Epoch 11/50\n",
      "94/94 [==============================] - 13s 134ms/step - loss: 0.0031\n",
      "Epoch 12/50\n",
      "94/94 [==============================] - 13s 135ms/step - loss: 0.0032\n",
      "Epoch 13/50\n",
      "94/94 [==============================] - 13s 133ms/step - loss: 0.0029\n",
      "Epoch 14/50\n",
      "94/94 [==============================] - 13s 133ms/step - loss: 0.0032\n",
      "Epoch 15/50\n",
      "94/94 [==============================] - 13s 138ms/step - loss: 0.0029\n",
      "Epoch 16/50\n",
      "94/94 [==============================] - 13s 135ms/step - loss: 0.0028\n",
      "Epoch 17/50\n",
      "94/94 [==============================] - 14s 151ms/step - loss: 0.0027\n",
      "Epoch 18/50\n",
      "94/94 [==============================] - 14s 150ms/step - loss: 0.0027\n",
      "Epoch 19/50\n",
      "94/94 [==============================] - 14s 152ms/step - loss: 0.0025\n",
      "Epoch 20/50\n",
      "94/94 [==============================] - 13s 140ms/step - loss: 0.0024\n",
      "Epoch 21/50\n",
      "94/94 [==============================] - 14s 149ms/step - loss: 0.0025\n",
      "Epoch 22/50\n",
      "94/94 [==============================] - 13s 143ms/step - loss: 0.0023\n",
      "Epoch 23/50\n",
      "94/94 [==============================] - 14s 146ms/step - loss: 0.0024\n",
      "Epoch 24/50\n",
      "94/94 [==============================] - 13s 140ms/step - loss: 0.0021\n",
      "Epoch 25/50\n",
      "94/94 [==============================] - 13s 138ms/step - loss: 0.0023\n",
      "Epoch 26/50\n",
      "94/94 [==============================] - 13s 140ms/step - loss: 0.0021\n",
      "Epoch 27/50\n",
      "94/94 [==============================] - 13s 138ms/step - loss: 0.0020\n",
      "Epoch 28/50\n",
      "94/94 [==============================] - 13s 141ms/step - loss: 0.0020\n",
      "Epoch 29/50\n",
      "94/94 [==============================] - 14s 146ms/step - loss: 0.0022\n",
      "Epoch 30/50\n",
      "94/94 [==============================] - 13s 142ms/step - loss: 0.0021\n",
      "Epoch 31/50\n",
      "94/94 [==============================] - 13s 140ms/step - loss: 0.0020\n",
      "Epoch 32/50\n",
      "94/94 [==============================] - 13s 139ms/step - loss: 0.0020\n",
      "Epoch 33/50\n",
      "94/94 [==============================] - 13s 138ms/step - loss: 0.0020\n",
      "Epoch 34/50\n",
      "94/94 [==============================] - 13s 136ms/step - loss: 0.0019\n",
      "Epoch 35/50\n",
      "94/94 [==============================] - 13s 138ms/step - loss: 0.0019\n",
      "Epoch 36/50\n",
      "94/94 [==============================] - 13s 138ms/step - loss: 0.0019\n",
      "Epoch 37/50\n",
      "94/94 [==============================] - 13s 139ms/step - loss: 0.0019\n",
      "Epoch 38/50\n",
      "94/94 [==============================] - 13s 138ms/step - loss: 0.0018\n",
      "Epoch 39/50\n",
      "94/94 [==============================] - 13s 139ms/step - loss: 0.0020\n",
      "Epoch 40/50\n",
      "94/94 [==============================] - 13s 143ms/step - loss: 0.0018\n",
      "Epoch 41/50\n",
      "94/94 [==============================] - 13s 137ms/step - loss: 0.0020\n",
      "Epoch 42/50\n",
      "94/94 [==============================] - 13s 141ms/step - loss: 0.0019\n",
      "Epoch 43/50\n",
      "94/94 [==============================] - 13s 134ms/step - loss: 0.0018\n",
      "Epoch 44/50\n",
      "94/94 [==============================] - 13s 139ms/step - loss: 0.0018\n",
      "Epoch 45/50\n",
      "94/94 [==============================] - 13s 137ms/step - loss: 0.0018\n",
      "Epoch 46/50\n",
      "94/94 [==============================] - 13s 134ms/step - loss: 0.0018\n",
      "Epoch 47/50\n",
      "94/94 [==============================] - 13s 137ms/step - loss: 0.0019\n",
      "Epoch 48/50\n",
      "94/94 [==============================] - 13s 135ms/step - loss: 0.0018\n",
      "Epoch 49/50\n",
      "94/94 [==============================] - 13s 137ms/step - loss: 0.0019\n",
      "Epoch 50/50\n",
      "94/94 [==============================] - 13s 136ms/step - loss: 0.0021\n"
     ]
    },
    {
     "data": {
      "text/plain": [
       "<keras.callbacks.History at 0x1fe69180490>"
      ]
     },
     "execution_count": 73,
     "metadata": {},
     "output_type": "execute_result"
    }
   ],
   "source": [
    "model.compile(optimizer='adam',loss='mean_squared_error')\n",
    "model.fit(x_train,y_train,epochs=50)"
   ]
  },
  {
   "cell_type": "code",
   "execution_count": 75,
   "id": "92286213",
   "metadata": {},
   "outputs": [],
   "source": [
    "model.save('Keras_model.h5')"
   ]
  },
  {
   "cell_type": "code",
   "execution_count": 76,
   "id": "c1e1c657",
   "metadata": {},
   "outputs": [
    {
     "data": {
      "text/html": [
       "<div>\n",
       "<style scoped>\n",
       "    .dataframe tbody tr th:only-of-type {\n",
       "        vertical-align: middle;\n",
       "    }\n",
       "\n",
       "    .dataframe tbody tr th {\n",
       "        vertical-align: top;\n",
       "    }\n",
       "\n",
       "    .dataframe thead th {\n",
       "        text-align: right;\n",
       "    }\n",
       "</style>\n",
       "<table border=\"1\" class=\"dataframe\">\n",
       "  <thead>\n",
       "    <tr style=\"text-align: right;\">\n",
       "      <th></th>\n",
       "      <th>Close</th>\n",
       "    </tr>\n",
       "  </thead>\n",
       "  <tbody>\n",
       "    <tr>\n",
       "      <th>3090</th>\n",
       "      <td>780.229980</td>\n",
       "    </tr>\n",
       "    <tr>\n",
       "      <th>3091</th>\n",
       "      <td>785.789978</td>\n",
       "    </tr>\n",
       "    <tr>\n",
       "      <th>3092</th>\n",
       "      <td>789.440002</td>\n",
       "    </tr>\n",
       "    <tr>\n",
       "      <th>3093</th>\n",
       "      <td>775.880005</td>\n",
       "    </tr>\n",
       "    <tr>\n",
       "      <th>3094</th>\n",
       "      <td>764.330017</td>\n",
       "    </tr>\n",
       "  </tbody>\n",
       "</table>\n",
       "</div>"
      ],
      "text/plain": [
       "           Close\n",
       "3090  780.229980\n",
       "3091  785.789978\n",
       "3092  789.440002\n",
       "3093  775.880005\n",
       "3094  764.330017"
      ]
     },
     "execution_count": 76,
     "metadata": {},
     "output_type": "execute_result"
    }
   ],
   "source": [
    "data_testing.head()"
   ]
  },
  {
   "cell_type": "code",
   "execution_count": 77,
   "id": "d4a4e94c",
   "metadata": {},
   "outputs": [
    {
     "name": "stderr",
     "output_type": "stream",
     "text": [
      "C:\\Users\\Chirubhai\\AppData\\Local\\Temp\\ipykernel_3728\\2523080795.py:2: FutureWarning: The frame.append method is deprecated and will be removed from pandas in a future version. Use pandas.concat instead.\n",
      "  final_df=past_100_days.append(data_testing,ignore_index=True)\n"
     ]
    },
    {
     "data": {
      "text/html": [
       "<div>\n",
       "<style scoped>\n",
       "    .dataframe tbody tr th:only-of-type {\n",
       "        vertical-align: middle;\n",
       "    }\n",
       "\n",
       "    .dataframe tbody tr th {\n",
       "        vertical-align: top;\n",
       "    }\n",
       "\n",
       "    .dataframe thead th {\n",
       "        text-align: right;\n",
       "    }\n",
       "</style>\n",
       "<table border=\"1\" class=\"dataframe\">\n",
       "  <thead>\n",
       "    <tr style=\"text-align: right;\">\n",
       "      <th></th>\n",
       "      <th>Close</th>\n",
       "    </tr>\n",
       "  </thead>\n",
       "  <tbody>\n",
       "    <tr>\n",
       "      <th>0</th>\n",
       "      <td>708.969971</td>\n",
       "    </tr>\n",
       "    <tr>\n",
       "      <th>1</th>\n",
       "      <td>707.260010</td>\n",
       "    </tr>\n",
       "    <tr>\n",
       "      <th>2</th>\n",
       "      <td>717.780029</td>\n",
       "    </tr>\n",
       "    <tr>\n",
       "      <th>3</th>\n",
       "      <td>727.200012</td>\n",
       "    </tr>\n",
       "    <tr>\n",
       "      <th>4</th>\n",
       "      <td>732.510010</td>\n",
       "    </tr>\n",
       "  </tbody>\n",
       "</table>\n",
       "</div>"
      ],
      "text/plain": [
       "        Close\n",
       "0  708.969971\n",
       "1  707.260010\n",
       "2  717.780029\n",
       "3  727.200012\n",
       "4  732.510010"
      ]
     },
     "execution_count": 77,
     "metadata": {},
     "output_type": "execute_result"
    }
   ],
   "source": [
    "past_100_days=data_training.tail(100)\n",
    "final_df=past_100_days.append(data_testing,ignore_index=True)\n",
    "final_df.head()"
   ]
  },
  {
   "cell_type": "code",
   "execution_count": 78,
   "id": "b49a89b4",
   "metadata": {},
   "outputs": [
    {
     "data": {
      "text/plain": [
       "(1425, 1)"
      ]
     },
     "execution_count": 78,
     "metadata": {},
     "output_type": "execute_result"
    }
   ],
   "source": [
    "input_data=scaler.fit_transform(final_df)\n",
    "input_data.shape"
   ]
  },
  {
   "cell_type": "code",
   "execution_count": 79,
   "id": "d89991fd",
   "metadata": {},
   "outputs": [],
   "source": [
    "x_test=[]\n",
    "y_test=[]\n",
    "\n",
    "for i in range(100,input_data.shape[0]):\n",
    "    x_test.append(input_data[i-100:i])\n",
    "    y_test.append(input_data[i,0])"
   ]
  },
  {
   "cell_type": "code",
   "execution_count": 80,
   "id": "82997e82",
   "metadata": {},
   "outputs": [
    {
     "name": "stdout",
     "output_type": "stream",
     "text": [
      "(1325, 100, 1)\n",
      "(1325,)\n"
     ]
    }
   ],
   "source": [
    "x_test,y_test=np.array(x_test),np.array(y_test)\n",
    "print(x_test.shape)\n",
    "print(y_test.shape)"
   ]
  },
  {
   "cell_type": "code",
   "execution_count": 81,
   "id": "37361f44",
   "metadata": {},
   "outputs": [],
   "source": [
    "y_predicted=model.predict(x_test)"
   ]
  },
  {
   "cell_type": "code",
   "execution_count": 82,
   "id": "d3a0337f",
   "metadata": {},
   "outputs": [
    {
     "data": {
      "text/plain": [
       "array([0.00043677])"
      ]
     },
     "execution_count": 82,
     "metadata": {},
     "output_type": "execute_result"
    }
   ],
   "source": [
    "scaler.scale_"
   ]
  },
  {
   "cell_type": "code",
   "execution_count": 83,
   "id": "04dbdfab",
   "metadata": {},
   "outputs": [],
   "source": [
    "scale_factor=1/0.00043677\n",
    "y_predicted=y_predicted*scale_factor\n",
    "y_test=y_test*scale_factor"
   ]
  },
  {
   "cell_type": "code",
   "execution_count": 84,
   "id": "7dc89ebd",
   "metadata": {},
   "outputs": [
    {
     "data": {
      "image/png": "[encoded data removed]",
      "text/plain": [
       "<Figure size 864x432 with 1 Axes>"
      ]
     },
     "metadata": {
      "needs_background": "light"
     },
     "output_type": "display_data"
    }
   ],
   "source": [
    "plt.figure(figsize=(12,6))\n",
    "plt.plot(y_test,'b',label='Original price')\n",
    "plt.plot(y_predicted,'r',label='Predicted price')\n",
    "plt.xlabel('Time')\n",
    "plt.ylabel('Price')\n",
    "plt.legend()\n",
    "plt.show()"
   ]
  }
 ],
 "metadata": {
  "kernelspec": {
   "display_name": "Python 3 (ipykernel)",
   "language": "python",
   "name": "python3"
  },
  "language_info": {
   "codemirror_mode": {
    "name": "ipython",
    "version": 3
   },
   "file_extension": ".py",
   "mimetype": "text/x-python",
   "name": "python",
   "nbconvert_exporter": "python",
   "pygments_lexer": "ipython3",
   "version": "3.9.7"
  }
 },
 "nbformat": 4,
 "nbformat_minor": 5
}
